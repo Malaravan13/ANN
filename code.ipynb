{
 "cells": [
  {
   "cell_type": "code",
   "execution_count": null,
   "id": "f8bb8347",
   "metadata": {},
   "outputs": [],
   "source": [
    "import pandas as pd\n",
    "import numpy as np\n",
    "import matplotlib.pyplot as plt\n",
    "import seaborn as sns\n",
    "from sklearn.model_selection import train_test_split\n",
    "from sklearn.preprocessing import StandardScaler, OneHotEncoder\n",
    "from sklearn.compose import ColumnTransformer\n",
    "from sklearn.utils import class_weight\n",
    "from sklearn.metrics import accuracy_score, classification_report, confusion_matrix,precision_score,recall_score,f1_score\n",
    "from tensorflow.keras.models import Sequential\n",
    "from tensorflow.keras.layers import Dense, Dropout, Input\n",
    "from tensorflow.keras.optimizers import Adam"
   ]
  },
  {
   "cell_type": "code",
   "execution_count": null,
   "id": "6947e3a4",
   "metadata": {},
   "outputs": [],
   "source": [
    "df = pd.read_csv(\"bank_additional_full_cleaned.csv\")\n"
   ]
  },
  {
   "cell_type": "code",
   "execution_count": null,
   "id": "327a7233",
   "metadata": {},
   "outputs": [],
   "source": [
    "df.shape"
   ]
  },
  {
   "cell_type": "code",
   "execution_count": null,
   "id": "bf93804d",
   "metadata": {},
   "outputs": [],
   "source": [
    "nul=df.isnull().sum()\n",
    "nul"
   ]
  },
  {
   "cell_type": "code",
   "execution_count": null,
   "id": "9f51f7fe",
   "metadata": {},
   "outputs": [],
   "source": [
    "dup=df.duplicated().sum()\n",
    "dup"
   ]
  },
  {
   "cell_type": "code",
   "execution_count": null,
   "id": "8bf8c38d",
   "metadata": {},
   "outputs": [],
   "source": [
    "df = df.drop_duplicates()"
   ]
  },
  {
   "cell_type": "code",
   "execution_count": null,
   "id": "c9d3aa2b",
   "metadata": {},
   "outputs": [],
   "source": [
    "numeric_cols = df.select_dtypes(include=[np.number]).columns.tolist()\n",
    "\n",
    "# Compute skewness\n",
    "skew_vals = df[numeric_cols].skew(numeric_only=True)\n",
    "print(\"Skewness (numeric):\")\n",
    "print(skew_vals.sort_values(ascending=False))\n",
    "\n",
    "# Bar plot of skewness\n",
    "plt.figure(figsize=(8,4))\n",
    "skew_vals.sort_values(ascending=False).plot(kind='bar', color='steelblue')\n",
    "plt.title('Skewness of numeric features')\n",
    "plt.ylabel('Skew')\n",
    "plt.tight_layout()\n",
    "plt.show()\n",
    "\n",
    "n = len(numeric_cols)\n",
    "cols = 3\n",
    "rows = int(np.ceil(n / cols)) if n > 0 else 0\n",
    "if n > 0:\n",
    "    plt.figure(figsize=(12, 3 * rows))\n",
    "    for i, col in enumerate(numeric_cols, 1):\n",
    "        plt.subplot(rows, cols, i)\n",
    "        sns.histplot(df[col].dropna(), kde=False, bins=30, color='salmon')\n",
    "        plt.title(col)\n",
    "    plt.tight_layout()\n",
    "    plt.show()\n"
   ]
  },
  {
   "cell_type": "code",
   "execution_count": null,
   "id": "3fb52b1e",
   "metadata": {},
   "outputs": [],
   "source": [
    "features = [\n",
    "    'age','job','marital','education','default','housing','loan',\n",
    "    'contact','month','day_of_week','campaign','pdays','previous','poutcome',\n",
    "    'emp.var.rate','cons.price.idx','cons.conf.idx','euribor3m','nr.employed'\n",
    "]\n",
    "X = df[features]\n",
    "y = df['y'].map({'yes': 1, 'no': 0})  \n",
    "\n",
    "cat_cols = ['job','marital','education','default','housing','loan',\n",
    "            'contact','month','day_of_week','poutcome']\n",
    "num_cols = [col for col in X.columns if col not in cat_cols]\n",
    "\n",
    "preprocessor = ColumnTransformer(\n",
    "    transformers=[\n",
    "        ('cat', OneHotEncoder(drop='first'), cat_cols),\n",
    "        ('num', StandardScaler(), num_cols)\n",
    "    ]\n",
    ")\n",
    "\n",
    "X_processed = preprocessor.fit_transform(X)\n",
    "\n",
    "\n",
    "X_train, X_test, y_train, y_test = train_test_split(\n",
    "    X_processed, y, test_size=0.2, random_state=42, stratify=y\n",
    ")\n",
    "\n",
    "class_weights = class_weight.compute_class_weight(\n",
    "    class_weight='balanced',\n",
    "    classes=np.unique(y_train),\n",
    "    y=y_train\n",
    ")\n",
    "class_weight_dict = dict(zip(np.unique(y_train), class_weights))\n",
    "print(class_weight_dict)\n",
    "\n",
    "model = Sequential([\n",
    "    Input(shape=(X_train.shape[1],)),\n",
    "    Dense(64, activation='relu'),\n",
    "    Dropout(0.3),\n",
    "    Dense(32, activation='relu'),\n",
    "    Dense(1, activation='sigmoid')\n",
    "])\n",
    "\n",
    "model.compile(optimizer=Adam(learning_rate=0.001),\n",
    "              loss='binary_crossentropy',\n",
    "              metrics=['accuracy'])\n",
    "\n",
    "\n",
    "history = model.fit(\n",
    "    X_train, y_train,\n",
    "    validation_split=0.2,\n",
    "    epochs=20,\n",
    "    batch_size=64,\n",
    "    verbose=2,\n",
    "    class_weight=class_weight_dict\n",
    ")\n",
    "loss, acc = model.evaluate(X_test, y_test, verbose=0)\n",
    "print(f\"Test Accuracy (from model.evaluate): {acc:.4f}\")"
   ]
  },
  {
   "cell_type": "code",
   "execution_count": null,
   "id": "dca21007",
   "metadata": {},
   "outputs": [],
   "source": [
    "y_pred_prob = model.predict(X_test, verbose=0).ravel()\n",
    "y_pred = (y_pred_prob >= 0.5).astype(int)\n",
    "\n",
    "print(\"\\nMetrics on test set:\")\n",
    "print(f\"Accuracy : {accuracy_score(y_test, y_pred):.4f}\")\n",
    "print(f\"Precision: {precision_score(y_test, y_pred):.4f}\")\n",
    "print(f\"Recall   : {recall_score(y_test, y_pred):.4f}\")\n",
    "print(f\"F1 Score : {f1_score(y_test, y_pred):.4f}\")"
   ]
  }
 ],
 "metadata": {
  "kernelspec": {
   "display_name": "base",
   "language": "python",
   "name": "python3"
  },
  "language_info": {
   "codemirror_mode": {
    "name": "ipython",
    "version": 3
   },
   "file_extension": ".py",
   "mimetype": "text/x-python",
   "name": "python",
   "nbconvert_exporter": "python",
   "pygments_lexer": "ipython3",
   "version": "3.13.5"
  }
 },
 "nbformat": 4,
 "nbformat_minor": 5
}
